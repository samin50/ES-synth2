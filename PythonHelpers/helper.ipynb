{
 "cells": [
  {
   "cell_type": "code",
   "execution_count": 3,
   "metadata": {},
   "outputs": [],
   "source": [
    "#Imports"
   ]
  },
  {
   "cell_type": "code",
   "execution_count": 1,
   "metadata": {},
   "outputs": [
    {
     "name": "stdout",
     "output_type": "stream",
     "text": [
      "261, 277, 293, 311, 329, 349, 370, 392, 415, 440, 466, 493, \n",
      "50953930, 54077542, 57201155, 60715219, 64229283, 68133799, 72233540, 76528508, 81018701, 85899345, 90975216, 96246312, "
     ]
    }
   ],
   "source": [
    "#Generate array for frequency\n",
    "freq = [None] * 12\n",
    "stepSize = [None] * 12\n",
    "SAMPLEFREQ = 22000\n",
    "for i in range(12):\n",
    "    freq[i] = int(261.63*(pow(2, (i)/12)))\n",
    "    stepSize[i] = int(freq[i]*(pow(2, 32))/SAMPLEFREQ)\n",
    "    print(freq[i], end=', ')\n",
    "print()\n",
    "for i in range(12): \n",
    "    print(stepSize[i], end=', ')"
   ]
  }
 ],
 "metadata": {
  "kernelspec": {
   "display_name": "base",
   "language": "python",
   "name": "python3"
  },
  "language_info": {
   "codemirror_mode": {
    "name": "ipython",
    "version": 3
   },
   "file_extension": ".py",
   "mimetype": "text/x-python",
   "name": "python",
   "nbconvert_exporter": "python",
   "pygments_lexer": "ipython3",
   "version": "3.9.13"
  },
  "orig_nbformat": 4,
  "vscode": {
   "interpreter": {
    "hash": "6e9c3e2b07d2b465f7c0dd5acda122ef1829424db345951ee0db8f7adeb51961"
   }
  }
 },
 "nbformat": 4,
 "nbformat_minor": 2
}
